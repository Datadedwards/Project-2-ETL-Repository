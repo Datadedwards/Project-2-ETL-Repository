{
 "cells": [
  {
   "cell_type": "code",
   "execution_count": 1,
   "metadata": {},
   "outputs": [],
   "source": [
    "from bs4 import BeautifulSoup\n",
    "import requests\n",
    "import pandas as pd"
   ]
  },
  {
   "cell_type": "code",
   "execution_count": 2,
   "metadata": {},
   "outputs": [],
   "source": [
    "url = 'https://washingtondc.craigslist.org/search/sss?sort=rel&query=computer%20monitor'\n",
    "response = requests.get(url)\n",
    "html = response.text\n",
    "soup = BeautifulSoup(response.text, 'lxml')\n",
    "result_list = soup.find_all('p', {'class':'result-info'})"
   ]
  },
  {
   "cell_type": "code",
   "execution_count": 3,
   "metadata": {},
   "outputs": [
    {
     "name": "stdout",
     "output_type": "stream",
     "text": [
      "'NoneType' object has no attribute 'text'\n",
      "'NoneType' object has no attribute 'text'\n",
      "'NoneType' object has no attribute 'text'\n"
     ]
    }
   ],
   "source": [
    "results= []\n",
    "\n",
    "for result in result_list:\n",
    "    try:\n",
    "        monitor = {}\n",
    "        monitor['Item'] = result.find('a', {'class':'hdrlnk'}).text\n",
    "        monitor['Price'] = int(result.find('span', {'class':'result-price'}).text.replace('$',''))\n",
    "        hood = result.find('span', {'class':'result-hood'})\n",
    "        monitor['Location'] = hood.text.replace('(','').replace(')','') if hood else None\n",
    "        results.append(monitor)\n",
    "    except AttributeError as e:\n",
    "        print(e)"
   ]
  },
  {
   "cell_type": "code",
   "execution_count": 4,
   "metadata": {},
   "outputs": [],
   "source": [
    "df=pd.DataFrame(results)"
   ]
  },
  {
   "cell_type": "code",
   "execution_count": 5,
   "metadata": {},
   "outputs": [],
   "source": [
    "html_monitor_table = df.to_html()"
   ]
  },
  {
   "cell_type": "code",
   "execution_count": 6,
   "metadata": {},
   "outputs": [
    {
     "data": {
      "text/plain": [
       "'<table border=\"1\" class=\"dataframe\">  <thead>    <tr style=\"text-align: right;\">      <th></th>      <th>Item</th>      <th>Location</th>      <th>Price</th>    </tr>  </thead>  <tbody>    <tr>      <th>0</th>      <td>Computer stand / monitor stand</td>      <td>Arlington</td>      <td>3</td>    </tr>    <tr>      <th>1</th>      <td>27\" External Computer Monitor</td>      <td>Eastern Market</td>      <td>40</td>    </tr>    <tr>      <th>2</th>      <td>Computer Monitor</td>      <td>None</td>      <td>20</td>    </tr>    <tr>      <th>3</th>      <td>****ACER 19 inch LCD Computer Monitor****</td>      <td>Silver Spring</td>      <td>45</td>    </tr>    <tr>      <th>4</th>      <td>6 cores CPU, 8gb Ram,  SSD  Computer + 24\" mon...</td>      <td>Fort Washington</td>      <td>175</td>    </tr>    <tr>      <th>5</th>      <td>Computer Flat Monitor Panel 19\" LCD Screen Gat...</td>      <td>South Riding, VA</td>      <td>11</td>    </tr>    <tr>      <th>6</th>      <td>ViewSonic 37\" 720p LCD HDTV N3760W Television/...</td>      <td>Haymarket</td>      <td>80</td>    </tr>    <tr>      <th>7</th>      <td>Tyris 19 computer monitor</td>      <td>Baileys Crossroads, VA</td>      <td>10</td>    </tr>    <tr>      <th>8</th>      <td>HP Compaq L1945w 19\" LCD Computer Monitor VGA ...</td>      <td>Potomac</td>      <td>79</td>    </tr>    <tr>      <th>9</th>      <td>HP Compaq L1945w 19\" LCD Computer Monitor VGA ...</td>      <td>Potomac</td>      <td>79</td>    </tr>    <tr>      <th>10</th>      <td>Dell PC computer + Monitor + 2018 Tax soft.</td>      <td>Rockville, Twinbrook</td>      <td>70</td>    </tr>    <tr>      <th>11</th>      <td>17 INCH SCREEN DELL COMPUTER MONITOR</td>      <td>Herndon</td>      <td>5</td>    </tr>    <tr>      <th>12</th>      <td>Dell PC Computer w monitor, etc.</td>      <td>Rockville, Twinbrook</td>      <td>99</td>    </tr>    <tr>      <th>13</th>      <td>Dell 22\" LCD Computer Monitor w/cables</td>      <td>Bloomingdale</td>      <td>60</td>    </tr>    <tr>      <th>14</th>      <td>Dell 30\" 2560x1600 Pro Computer Monitor &amp; Soun...</td>      <td>Alexandria</td>      <td>220</td>    </tr>    <tr>      <th>15</th>      <td>24\" ASUS LED Computer Monitor</td>      <td>Hill East</td>      <td>120</td>    </tr>    <tr>      <th>16</th>      <td>Computer Monitor</td>      <td>Ashburn, VA</td>      <td>60</td>    </tr>    <tr>      <th>17</th>      <td>Dell Computer Monitor 23\"- E2314HF</td>      <td>Alexandria</td>      <td>60</td>    </tr>    <tr>      <th>18</th>      <td>HP 2009M 20 inch Wide Screen Computer Monitor</td>      <td>Herndon</td>      <td>20</td>    </tr>    <tr>      <th>19</th>      <td>Quad Computer Monitor Mount</td>      <td>Alexandria</td>      <td>20</td>    </tr>    <tr>      <th>20</th>      <td>Princeton Computer Monitor 17\"</td>      <td>Gaithersburg</td>      <td>30</td>    </tr>    <tr>      <th>21</th>      <td>Computer Monitor Stand With Drawer</td>      <td>None</td>      <td>10</td>    </tr>    <tr>      <th>22</th>      <td>DELL 17\" Flat Panel LCD Display, Computer Moni...</td>      <td>Laurel</td>      <td>40</td>    </tr>    <tr>      <th>23</th>      <td>DELL 15\" Flat Panel LCD Display, Computer Moni...</td>      <td>Laurel</td>      <td>25</td>    </tr>    <tr>      <th>24</th>      <td>DELL 19\" Flat Screen Computer Monitor Display ...</td>      <td>Laurel</td>      <td>50</td>    </tr>    <tr>      <th>25</th>      <td>GATEWAY 15\" Flat Panel Computer Monitor Displa...</td>      <td>Laurel</td>      <td>40</td>    </tr>    <tr>      <th>26</th>      <td>Computer Monitor Stand or TV Stand or Printer ...</td>      <td>Laurel</td>      <td>25</td>    </tr>    <tr>      <th>27</th>      <td>Dell Computer Monitor</td>      <td>Herndon</td>      <td>40</td>    </tr>    <tr>      <th>28</th>      <td>Hannspree 19\" computer monitor</td>      <td>Sterling cascades</td>      <td>25</td>    </tr>    <tr>      <th>29</th>      <td>Computer monitor and router</td>      <td>Tysons Corner</td>      <td>70</td>    </tr>    <tr>      <th>30</th>      <td>Ultra Wide IPS LED Computer Monitor</td>      <td>Adams Morgan</td>      <td>250</td>    </tr>    <tr>      <th>31</th>      <td>Computer monitor</td>      <td>Adams Morgan</td>      <td>40</td>    </tr>    <tr>      <th>32</th>      <td>Like New Dell Computer Monitor</td>      <td>Fairfax</td>      <td>80</td>    </tr>    <tr>      <th>33</th>      <td>Computer, Monitor, Printer, Keyboard, Mouse</td>      <td>Alexandria, VA</td>      <td>135</td>    </tr>    <tr>      <th>34</th>      <td>Samsung Computer Monitor</td>      <td>morton pl NE</td>      <td>15</td>    </tr>    <tr>      <th>35</th>      <td>monitor,Sony Flat Panel Monitor, computer, fla...</td>      <td>Sterling, VA</td>      <td>15</td>    </tr>    <tr>      <th>36</th>      <td>Monitor Desk Mount Vivo single clamp adjustabl...</td>      <td>Manassas Park</td>      <td>20</td>    </tr>    <tr>      <th>37</th>      <td>Asus PG278Q 2k 144hz G-sync</td>      <td>GMU</td>      <td>320</td>    </tr>    <tr>      <th>38</th>      <td>Computer LCD monitors 22\" HP and 22\" Dell</td>      <td>Silver Spring</td>      <td>65</td>    </tr>    <tr>      <th>39</th>      <td>Dell Flat Screen Monitor (15.6 Inches)</td>      <td>Chantilly</td>      <td>70</td>    </tr>    <tr>      <th>40</th>      <td>Olevia Syntax 32\" TV / Monitor</td>      <td>Rockville/Potomac</td>      <td>100</td>    </tr>    <tr>      <th>41</th>      <td>Sony 17\" Flat Panel LCD Monitor</td>      <td>Vienna</td>      <td>25</td>    </tr>    <tr>      <th>42</th>      <td>DELL 20\" Monitor</td>      <td>Vienna</td>      <td>25</td>    </tr>    <tr>      <th>43</th>      <td>15\" Dell Ultrasharp LCD Monitor</td>      <td>Vienna</td>      <td>25</td>    </tr>    <tr>      <th>44</th>      <td>15\" BENQ Monitor, No stand</td>      <td>Vienna</td>      <td>20</td>    </tr>    <tr>      <th>45</th>      <td>15\" ViewSonic N1700w Monitor</td>      <td>Vienna</td>      <td>40</td>    </tr>    <tr>      <th>46</th>      <td>17\" Dell LCD Monitor</td>      <td>Vienna</td>      <td>40</td>    </tr>    <tr>      <th>47</th>      <td>15\" BENQ Monitor, No stand</td>      <td>Vienna</td>      <td>20</td>    </tr>    <tr>      <th>48</th>      <td>15\" ViewSonic VA503b Monitor</td>      <td>Vienna</td>      <td>40</td>    </tr>    <tr>      <th>49</th>      <td>Acer F-20 Ferrari Monitor $40</td>      <td>None</td>      <td>40</td>    </tr>    <tr>      <th>50</th>      <td>Apple Mini DisplayPort to VGA Video adaptor</td>      <td>Herndon, VA</td>      <td>15</td>    </tr>    <tr>      <th>51</th>      <td>GTX 1070 gaming desktop computer with lots of ...</td>      <td>Germantown</td>      <td>800</td>    </tr>    <tr>      <th>52</th>      <td>Data Switch box for monitor printer serial par...</td>      <td>Fairfax</td>      <td>5</td>    </tr>    <tr>      <th>53</th>      <td>Allsop sliding computer keyboard shelf</td>      <td>Chantilly</td>      <td>15</td>    </tr>    <tr>      <th>54</th>      <td>Dell dual monitor stand</td>      <td>Alexandria / North Old Town</td>      <td>50</td>    </tr>    <tr>      <th>55</th>      <td>Optiplex #1 Gaming Computer, i5 quad cpu, 16GB...</td>      <td>Silver spring</td>      <td>370</td>    </tr>    <tr>      <th>56</th>      <td>Lenovo ThinkPad Battery 29+ extended life battery</td>      <td>DC</td>      <td>25</td>    </tr>    <tr>      <th>57</th>      <td>Dell 2208WFPT Widescreen 22\" LCD Monitor Silve...</td>      <td>Reston, VA</td>      <td>80</td>    </tr>    <tr>      <th>58</th>      <td>ViewSonic VA2855Smh 28\" HD 1080p Monitor</td>      <td>Gaithersburg</td>      <td>175</td>    </tr>    <tr>      <th>59</th>      <td>SAMSUNG 2253BW Black 22\" 2ms(GTG) DVI Widescre...</td>      <td>Fairfax</td>      <td>120</td>    </tr>    <tr>      <th>60</th>      <td>Acer H226HQL Dual Monitors</td>      <td>Vienna</td>      <td>75</td>    </tr>    <tr>      <th>61</th>      <td>Lenovo Thinkpad Docking Station (new in box)</td>      <td>DC</td>      <td>50</td>    </tr>    <tr>      <th>62</th>      <td>Lenovo L2321x 23\" Monitor</td>      <td>Silver Spring</td>      <td>200</td>    </tr>    <tr>      <th>63</th>      <td>Dell PR02X USB 3.0 E-Port Replicator Docking S...</td>      <td>FALLS CHURCH</td>      <td>45</td>    </tr>    <tr>      <th>64</th>      <td>NEC MultiSync 90GX2 - LCD monitor</td>      <td>None</td>      <td>25</td>    </tr>    <tr>      <th>65</th>      <td>Dell U2410 Monitor</td>      <td>Potomac MD</td>      <td>80</td>    </tr>    <tr>      <th>66</th>      <td>Complete Dell OptiPlex 3010 Computer System Wi...</td>      <td>Gaithersburg</td>      <td>120</td>    </tr>    <tr>      <th>67</th>      <td>Complete Set HP Compaq 6005 Pro Computer Syste...</td>      <td>Gaithersburg</td>      <td>100</td>    </tr>    <tr>      <th>68</th>      <td>Complete Dell OptiPlex 780 Computer System Win...</td>      <td>Gaithersburg</td>      <td>90</td>    </tr>    <tr>      <th>69</th>      <td>Complete Dell OptiPlex 755 Computer System Win...</td>      <td>Gaithersburg</td>      <td>80</td>    </tr>    <tr>      <th>70</th>      <td>Complete Dell OptiPlex 960 Computer System Win...</td>      <td>Gaithersburg</td>      <td>90</td>    </tr>    <tr>      <th>71</th>      <td>APC 19\" RACK LCD CONSOLE FLIP SCREEN MONITOR</td>      <td>LEESBURG VA</td>      <td>350</td>    </tr>    <tr>      <th>72</th>      <td>Adjustable Computer Laptop Standing Desk Home ...</td>      <td>Clarendon</td>      <td>30</td>    </tr>    <tr>      <th>73</th>      <td>Optiplex #1 Gaming Computer, i5 quad cpu, 16GB...</td>      <td>Silver Spring</td>      <td>370</td>    </tr>    <tr>      <th>74</th>      <td>6 cores CPU, 8GB RAM, SSD PC + 24\" monitor</td>      <td>10013 Edgewater Ter</td>      <td>175</td>    </tr>    <tr>      <th>75</th>      <td>ProView 15\" LCD Monitor</td>      <td>Clinton</td>      <td>20</td>    </tr>    <tr>      <th>76</th>      <td>MONITOR BLOWOUT! HP ZR2740w 27-inch</td>      <td>Rosslyn</td>      <td>50</td>    </tr>    <tr>      <th>77</th>      <td>Lenovo ThinkPad One Link Pro Dock</td>      <td>DC</td>      <td>50</td>    </tr>    <tr>      <th>78</th>      <td>CORSAIR RM Series RM750 750W ATX12V 80 PLUS GO...</td>      <td>None</td>      <td>85</td>    </tr>    <tr>      <th>79</th>      <td>USB Display adapter</td>      <td>Falls Church</td>      <td>20</td>    </tr>    <tr>      <th>80</th>      <td>Lenovo Thinkpad Ultrabase w/ DVD w/keys for x2...</td>      <td>Alexandria, VA</td>      <td>20</td>    </tr>    <tr>      <th>81</th>      <td>Lenovo Thinkpad Ultrabase w/ DVD w/keys for x2...</td>      <td>Alexandria, VA</td>      <td>20</td>    </tr>    <tr>      <th>82</th>      <td>Laptop Computer Flat Panel 19\" LCD Screen Gate...</td>      <td>South Riding, VA</td>      <td>18</td>    </tr>    <tr>      <th>83</th>      <td>Laptop Computer Flat Panel 19\" LCD Screen Gate...</td>      <td>South Riding, VA</td>      <td>18</td>    </tr>    <tr>      <th>84</th>      <td>Flat Screen Computer Monitors</td>      <td>ADAMS ST NW</td>      <td>30</td>    </tr>    <tr>      <th>85</th>      <td>Dual Monitor Stand</td>      <td>None</td>      <td>50</td>    </tr>    <tr>      <th>86</th>      <td>USB Display adapters</td>      <td>None</td>      <td>100</td>    </tr>    <tr>      <th>87</th>      <td>Office Computer Desk Table</td>      <td>Sterling</td>      <td>45</td>    </tr>    <tr>      <th>88</th>      <td>Kensington Laptop Lock</td>      <td>alexandria</td>      <td>20</td>    </tr>    <tr>      <th>89</th>      <td>SERVER RACK CABINET A/V RACKMOUNT HP MID ATLAN...</td>      <td>COLUMBIA</td>      <td>150</td>    </tr>    <tr>      <th>90</th>      <td>HUMANSCALE M8 and M2 DUAL MONITOR ARM BOLT-THR...</td>      <td>Columbia</td>      <td>95</td>    </tr>    <tr>      <th>91</th>      <td>Samsung 27-inch LED Monitor</td>      <td>Washington, DC</td>      <td>200</td>    </tr>    <tr>      <th>92</th>      <td>Stand for Monitor</td>      <td>College Park, MD</td>      <td>5</td>    </tr>    <tr>      <th>93</th>      <td>Dell Optiplex 960 Slimline Computer 4GB RAM</td>      <td>MacArthur Blvd &amp; Arizona Ave</td>      <td>75</td>    </tr>    <tr>      <th>94</th>      <td>ASUS ProArt PA248Q 24 inch IPS LED monitor</td>      <td>None</td>      <td>80</td>    </tr>    <tr>      <th>95</th>      <td>Three 24\" View Sonic Computer Monitors</td>      <td>Gaithersburg, MD</td>      <td>250</td>    </tr>    <tr>      <th>96</th>      <td>Two arm monitor mount</td>      <td>Fairfax</td>      <td>10</td>    </tr>    <tr>      <th>97</th>      <td>Gaming Computer</td>      <td>Arlington</td>      <td>500</td>    </tr>    <tr>      <th>98</th>      <td>Wireless keyboard mouse , vga monitor and 2 cp...</td>      <td>None</td>      <td>20</td>    </tr>    <tr>      <th>99</th>      <td>ViewSonic VX2835wm 28 Inch LCD Display 1920×12...</td>      <td>Leesburg</td>      <td>50</td>    </tr>    <tr>      <th>100</th>      <td>24 inch 1080P ASUS VH242H Monitor</td>      <td>Leesburg</td>      <td>35</td>    </tr>    <tr>      <th>101</th>      <td>Wacom Cintiq 27QHD Touch + Wacom Art Pen +Ergo...</td>      <td>Gaithersburg</td>      <td>2000</td>    </tr>    <tr>      <th>102</th>      <td>\"Dell\" 1 X DVI-D Male-Male Digital Video Monit...</td>      <td>Gaithersburg</td>      <td>1</td>    </tr>    <tr>      <th>103</th>      <td>Polar FT80 Heart Rate Monitor Watch</td>      <td>Farragut</td>      <td>60</td>    </tr>    <tr>      <th>104</th>      <td>Computer table plus MORE</td>      <td>Ashburn, VA</td>      <td>200</td>    </tr>    <tr>      <th>105</th>      <td>Dell 19 Inch Monitor</td>      <td>None</td>      <td>25</td>    </tr>    <tr>      <th>106</th>      <td>Optiplex #1 Gaming Computer, i5 quad cpu, 16GB...</td>      <td>Silver Spring</td>      <td>370</td>    </tr>    <tr>      <th>107</th>      <td>Monitor 17 Inch</td>      <td>College Park</td>      <td>25</td>    </tr>    <tr>      <th>108</th>      <td>Gaming PC + 1440p Monitor</td>      <td>None</td>      <td>825</td>    </tr>    <tr>      <th>109</th>      <td>Dell Flat Screen monitor</td>      <td>Bethesda</td>      <td>10</td>    </tr>    <tr>      <th>110</th>      <td>Lenovo USB 3.0 Docking Station</td>      <td>Fairfax</td>      <td>60</td>    </tr>    <tr>      <th>111</th>      <td>3 broken computer monitors $10 a piece</td>      <td>Alexandria</td>      <td>10</td>    </tr>    <tr>      <th>112</th>      <td>HP Integrated Work Center Stand GN783AT</td>      <td>Bethesda</td>      <td>25</td>    </tr>    <tr>      <th>113</th>      <td>Desktop Keyboard Manager</td>      <td>None</td>      <td>15</td>    </tr>    <tr>      <th>114</th>      <td>22” dell monitor dvi/vga/hdmi</td>      <td>Manassas</td>      <td>85</td>    </tr>    <tr>      <th>115</th>      <td>MSI gaming monitor</td>      <td>Springfield</td>      <td>350</td>    </tr>    <tr>      <th>116</th>      <td>2 Dell Monitor Flat Screen Works Great + Cable...</td>      <td>CENTREVILLE</td>      <td>25</td>    </tr>  </tbody></table>'"
      ]
     },
     "execution_count": 6,
     "metadata": {},
     "output_type": "execute_result"
    }
   ],
   "source": [
    "html_monitor_table.replace('\\n', '')"
   ]
  },
  {
   "cell_type": "code",
   "execution_count": 7,
   "metadata": {},
   "outputs": [],
   "source": [
    "df.to_html('monitor_table.html')"
   ]
  }
 ],
 "metadata": {
  "kernelspec": {
   "display_name": "Python 3",
   "language": "python",
   "name": "python3"
  },
  "language_info": {
   "codemirror_mode": {
    "name": "ipython",
    "version": 3
   },
   "file_extension": ".py",
   "mimetype": "text/x-python",
   "name": "python",
   "nbconvert_exporter": "python",
   "pygments_lexer": "ipython3",
   "version": "3.7.0"
  }
 },
 "nbformat": 4,
 "nbformat_minor": 2
}
