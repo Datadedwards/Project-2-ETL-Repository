{
 "cells": [
  {
   "cell_type": "code",
   "execution_count": 1,
   "metadata": {},
   "outputs": [],
   "source": [
    "from bs4 import BeautifulSoup\n",
    "import requests\n",
    "import pandas as pd"
   ]
  },
  {
   "cell_type": "code",
   "execution_count": 2,
   "metadata": {},
   "outputs": [],
   "source": [
    "url = 'https://washingtondc.craigslist.org/search/sss?sort=rel&query=computer%20monitor'\n",
    "response = requests.get(url)\n",
    "html = response.text\n",
    "soup = BeautifulSoup(response.text, 'lxml')\n",
    "result_list = soup.find_all('p', {'class':'result-info'})"
   ]
  },
  {
   "cell_type": "code",
   "execution_count": 3,
   "metadata": {},
   "outputs": [
    {
     "ename": "AttributeError",
     "evalue": "'NoneType' object has no attribute 'text'",
     "output_type": "error",
     "traceback": [
      "\u001b[1;31m---------------------------------------------------------------------------\u001b[0m",
      "\u001b[1;31mAttributeError\u001b[0m                            Traceback (most recent call last)",
      "\u001b[1;32m<ipython-input-3-71208a83c288>\u001b[0m in \u001b[0;36m<module>\u001b[1;34m()\u001b[0m\n\u001b[0;32m      4\u001b[0m     \u001b[0mmonitor\u001b[0m \u001b[1;33m=\u001b[0m \u001b[1;33m{\u001b[0m\u001b[1;33m}\u001b[0m\u001b[1;33m\u001b[0m\u001b[0m\n\u001b[0;32m      5\u001b[0m     \u001b[0mmonitor\u001b[0m\u001b[1;33m[\u001b[0m\u001b[1;34m'Item'\u001b[0m\u001b[1;33m]\u001b[0m \u001b[1;33m=\u001b[0m \u001b[0mresult\u001b[0m\u001b[1;33m.\u001b[0m\u001b[0mfind\u001b[0m\u001b[1;33m(\u001b[0m\u001b[1;34m'a'\u001b[0m\u001b[1;33m,\u001b[0m \u001b[1;33m{\u001b[0m\u001b[1;34m'class'\u001b[0m\u001b[1;33m:\u001b[0m\u001b[1;34m'hdrlnk'\u001b[0m\u001b[1;33m}\u001b[0m\u001b[1;33m)\u001b[0m\u001b[1;33m.\u001b[0m\u001b[0mtext\u001b[0m\u001b[1;33m\u001b[0m\u001b[0m\n\u001b[1;32m----> 6\u001b[1;33m     \u001b[0mmonitor\u001b[0m\u001b[1;33m[\u001b[0m\u001b[1;34m'Price'\u001b[0m\u001b[1;33m]\u001b[0m \u001b[1;33m=\u001b[0m \u001b[0mint\u001b[0m\u001b[1;33m(\u001b[0m\u001b[0mresult\u001b[0m\u001b[1;33m.\u001b[0m\u001b[0mfind\u001b[0m\u001b[1;33m(\u001b[0m\u001b[1;34m'span'\u001b[0m\u001b[1;33m,\u001b[0m \u001b[1;33m{\u001b[0m\u001b[1;34m'class'\u001b[0m\u001b[1;33m:\u001b[0m\u001b[1;34m'result-price'\u001b[0m\u001b[1;33m}\u001b[0m\u001b[1;33m)\u001b[0m\u001b[1;33m.\u001b[0m\u001b[0mtext\u001b[0m\u001b[1;33m.\u001b[0m\u001b[0mreplace\u001b[0m\u001b[1;33m(\u001b[0m\u001b[1;34m'$'\u001b[0m\u001b[1;33m,\u001b[0m\u001b[1;34m''\u001b[0m\u001b[1;33m)\u001b[0m\u001b[1;33m)\u001b[0m\u001b[1;33m\u001b[0m\u001b[0m\n\u001b[0m\u001b[0;32m      7\u001b[0m     \u001b[0mhood\u001b[0m \u001b[1;33m=\u001b[0m \u001b[0mresult\u001b[0m\u001b[1;33m.\u001b[0m\u001b[0mfind\u001b[0m\u001b[1;33m(\u001b[0m\u001b[1;34m'span'\u001b[0m\u001b[1;33m,\u001b[0m \u001b[1;33m{\u001b[0m\u001b[1;34m'class'\u001b[0m\u001b[1;33m:\u001b[0m\u001b[1;34m'result-hood'\u001b[0m\u001b[1;33m}\u001b[0m\u001b[1;33m)\u001b[0m\u001b[1;33m\u001b[0m\u001b[0m\n\u001b[0;32m      8\u001b[0m     \u001b[0mmonitor\u001b[0m\u001b[1;33m[\u001b[0m\u001b[1;34m'Location'\u001b[0m\u001b[1;33m]\u001b[0m \u001b[1;33m=\u001b[0m \u001b[0mhood\u001b[0m\u001b[1;33m.\u001b[0m\u001b[0mtext\u001b[0m\u001b[1;33m.\u001b[0m\u001b[0mreplace\u001b[0m\u001b[1;33m(\u001b[0m\u001b[1;34m'('\u001b[0m\u001b[1;33m,\u001b[0m\u001b[1;34m''\u001b[0m\u001b[1;33m)\u001b[0m\u001b[1;33m.\u001b[0m\u001b[0mreplace\u001b[0m\u001b[1;33m(\u001b[0m\u001b[1;34m')'\u001b[0m\u001b[1;33m,\u001b[0m\u001b[1;34m''\u001b[0m\u001b[1;33m)\u001b[0m \u001b[1;32mif\u001b[0m \u001b[0mhood\u001b[0m \u001b[1;32melse\u001b[0m \u001b[1;32mNone\u001b[0m\u001b[1;33m\u001b[0m\u001b[0m\n",
      "\u001b[1;31mAttributeError\u001b[0m: 'NoneType' object has no attribute 'text'"
     ]
    }
   ],
   "source": [
    "results= []\n",
    "\n",
    "for result in result_list:\n",
    "    monitor = {}\n",
    "    monitor['Item'] = result.find('a', {'class':'hdrlnk'}).text\n",
    "    monitor['Price'] = int(result.find('span', {'class':'result-price'}).text.replace('$',''))\n",
    "    hood = result.find('span', {'class':'result-hood'})\n",
    "    monitor['Location'] = hood.text.replace('(','').replace(')','') if hood else None\n",
    "    results.append(monitor)"
   ]
  },
  {
   "cell_type": "code",
   "execution_count": 7,
   "metadata": {},
   "outputs": [],
   "source": [
    "df=pd.DataFrame(results)"
   ]
  },
  {
   "cell_type": "code",
   "execution_count": 8,
   "metadata": {},
   "outputs": [],
   "source": [
    "html_monitor_table = df.to_html()"
   ]
  },
  {
   "cell_type": "code",
   "execution_count": 9,
   "metadata": {},
   "outputs": [
    {
     "data": {
      "text/plain": [
       "'<table border=\"1\" class=\"dataframe\">  <thead>    <tr style=\"text-align: right;\">      <th></th>      <th>Item</th>      <th>Location</th>      <th>Price</th>    </tr>  </thead>  <tbody>    <tr>      <th>0</th>      <td>27\" External Computer Monitor</td>      <td>Eastern Market</td>      <td>40</td>    </tr>    <tr>      <th>1</th>      <td>Computer Monitor</td>      <td>None</td>      <td>20</td>    </tr>    <tr>      <th>2</th>      <td>****ACER 19 inch LCD Computer Monitor****</td>      <td>Silver Spring</td>      <td>45</td>    </tr>    <tr>      <th>3</th>      <td>6 cores CPU, 8gb Ram,  SSD  Computer + 24\" mon...</td>      <td>Fort Washington</td>      <td>175</td>    </tr>    <tr>      <th>4</th>      <td>Computer Flat Monitor Panel 19\" LCD Screen Gat...</td>      <td>South Riding, VA</td>      <td>11</td>    </tr>    <tr>      <th>5</th>      <td>ViewSonic 37\" 720p LCD HDTV N3760W Television/...</td>      <td>Haymarket</td>      <td>80</td>    </tr>    <tr>      <th>6</th>      <td>Tyris 19 computer monitor</td>      <td>Baileys Crossroads, VA</td>      <td>10</td>    </tr>    <tr>      <th>7</th>      <td>HP Compaq L1945w 19\" LCD Computer Monitor VGA ...</td>      <td>Potomac</td>      <td>79</td>    </tr>    <tr>      <th>8</th>      <td>HP Compaq L1945w 19\" LCD Computer Monitor VGA ...</td>      <td>Potomac</td>      <td>79</td>    </tr>    <tr>      <th>9</th>      <td>Dell PC computer + Monitor + 2018 Tax soft.</td>      <td>Rockville, Twinbrook</td>      <td>70</td>    </tr>    <tr>      <th>10</th>      <td>17 INCH SCREEN DELL COMPUTER MONITOR</td>      <td>Herndon</td>      <td>5</td>    </tr>    <tr>      <th>11</th>      <td>Dell PC Computer w monitor, etc.</td>      <td>Rockville, Twinbrook</td>      <td>99</td>    </tr>    <tr>      <th>12</th>      <td>Dell 22\" LCD Computer Monitor w/cables</td>      <td>Bloomingdale</td>      <td>60</td>    </tr>    <tr>      <th>13</th>      <td>Dell 30\" 2560x1600 Pro Computer Monitor &amp; Soun...</td>      <td>Alexandria</td>      <td>220</td>    </tr>    <tr>      <th>14</th>      <td>24\" ASUS LED Computer Monitor</td>      <td>Hill East</td>      <td>120</td>    </tr>    <tr>      <th>15</th>      <td>Computer Monitor</td>      <td>Ashburn, VA</td>      <td>60</td>    </tr>    <tr>      <th>16</th>      <td>Dell Computer Monitor 23\"- E2314HF</td>      <td>Alexandria</td>      <td>60</td>    </tr>    <tr>      <th>17</th>      <td>HP 2009M 20 inch Wide Screen Computer Monitor</td>      <td>Herndon</td>      <td>20</td>    </tr>    <tr>      <th>18</th>      <td>Quad Computer Monitor Mount</td>      <td>Alexandria</td>      <td>20</td>    </tr>    <tr>      <th>19</th>      <td>Princeton Computer Monitor 17\"</td>      <td>Gaithersburg</td>      <td>30</td>    </tr>    <tr>      <th>20</th>      <td>Computer Monitor Stand With Drawer</td>      <td>None</td>      <td>10</td>    </tr>    <tr>      <th>21</th>      <td>DELL 17\" Flat Panel LCD Display, Computer Moni...</td>      <td>Laurel</td>      <td>40</td>    </tr>    <tr>      <th>22</th>      <td>DELL 15\" Flat Panel LCD Display, Computer Moni...</td>      <td>Laurel</td>      <td>25</td>    </tr>    <tr>      <th>23</th>      <td>DELL 19\" Flat Screen Computer Monitor Display ...</td>      <td>Laurel</td>      <td>50</td>    </tr>    <tr>      <th>24</th>      <td>GATEWAY 15\" Flat Panel Computer Monitor Displa...</td>      <td>Laurel</td>      <td>40</td>    </tr>    <tr>      <th>25</th>      <td>Computer Monitor Stand or TV Stand or Printer ...</td>      <td>Laurel</td>      <td>25</td>    </tr>    <tr>      <th>26</th>      <td>Dell Computer Monitor</td>      <td>Herndon</td>      <td>40</td>    </tr>    <tr>      <th>27</th>      <td>Hannspree 19\" computer monitor</td>      <td>Sterling cascades</td>      <td>25</td>    </tr>    <tr>      <th>28</th>      <td>Computer monitor and router</td>      <td>Tysons Corner</td>      <td>70</td>    </tr>    <tr>      <th>29</th>      <td>Ultra Wide IPS LED Computer Monitor</td>      <td>Adams Morgan</td>      <td>250</td>    </tr>    <tr>      <th>30</th>      <td>Computer stand / monitor stand</td>      <td>Arlington</td>      <td>3</td>    </tr>    <tr>      <th>31</th>      <td>Computer monitor</td>      <td>Adams Morgan</td>      <td>40</td>    </tr>    <tr>      <th>32</th>      <td>Like New Dell Computer Monitor</td>      <td>Fairfax</td>      <td>80</td>    </tr>    <tr>      <th>33</th>      <td>Computer, Monitor, Printer, Keyboard, Mouse</td>      <td>Alexandria, VA</td>      <td>135</td>    </tr>    <tr>      <th>34</th>      <td>Samsung Computer Monitor</td>      <td>morton pl NE</td>      <td>15</td>    </tr>    <tr>      <th>35</th>      <td>monitor,Sony Flat Panel Monitor, computer, fla...</td>      <td>Sterling, VA</td>      <td>15</td>    </tr>    <tr>      <th>36</th>      <td>Sony 17\" Flat Panel LCD Monitor</td>      <td>Vienna</td>      <td>25</td>    </tr>    <tr>      <th>37</th>      <td>DELL 20\" Monitor</td>      <td>Vienna</td>      <td>25</td>    </tr>    <tr>      <th>38</th>      <td>15\" Dell Ultrasharp LCD Monitor</td>      <td>Vienna</td>      <td>25</td>    </tr>    <tr>      <th>39</th>      <td>15\" BENQ Monitor, No stand</td>      <td>Vienna</td>      <td>20</td>    </tr>    <tr>      <th>40</th>      <td>15\" ViewSonic N1700w Monitor</td>      <td>Vienna</td>      <td>40</td>    </tr>    <tr>      <th>41</th>      <td>17\" Dell LCD Monitor</td>      <td>Vienna</td>      <td>40</td>    </tr>    <tr>      <th>42</th>      <td>15\" BENQ Monitor, No stand</td>      <td>Vienna</td>      <td>20</td>    </tr>    <tr>      <th>43</th>      <td>15\" ViewSonic VA503b Monitor</td>      <td>Vienna</td>      <td>40</td>    </tr>    <tr>      <th>44</th>      <td>Acer F-20 Ferrari Monitor $40</td>      <td>None</td>      <td>40</td>    </tr>    <tr>      <th>45</th>      <td>Apple Mini DisplayPort to VGA Video adaptor</td>      <td>Herndon, VA</td>      <td>15</td>    </tr>    <tr>      <th>46</th>      <td>GTX 1070 gaming desktop computer with lots of ...</td>      <td>Germantown</td>      <td>800</td>    </tr>    <tr>      <th>47</th>      <td>Data Switch box for monitor printer serial par...</td>      <td>Fairfax</td>      <td>5</td>    </tr>    <tr>      <th>48</th>      <td>Allsop sliding computer keyboard shelf</td>      <td>Chantilly</td>      <td>15</td>    </tr>    <tr>      <th>49</th>      <td>Dell dual monitor stand</td>      <td>Alexandria / North Old Town</td>      <td>50</td>    </tr>    <tr>      <th>50</th>      <td>Optiplex #1 Gaming Computer, i5 quad cpu, 16GB...</td>      <td>Silver spring</td>      <td>370</td>    </tr>    <tr>      <th>51</th>      <td>Lenovo ThinkPad Battery 29+ extended life battery</td>      <td>DC</td>      <td>25</td>    </tr>    <tr>      <th>52</th>      <td>Dell 2208WFPT Widescreen 22\" LCD Monitor Silve...</td>      <td>Reston, VA</td>      <td>80</td>    </tr>    <tr>      <th>53</th>      <td>ViewSonic VA2855Smh 28\" HD 1080p Monitor</td>      <td>Gaithersburg</td>      <td>175</td>    </tr>  </tbody></table>'"
      ]
     },
     "execution_count": 9,
     "metadata": {},
     "output_type": "execute_result"
    }
   ],
   "source": [
    "html_monitor_table.replace('\\n', '')"
   ]
  },
  {
   "cell_type": "code",
   "execution_count": 10,
   "metadata": {},
   "outputs": [],
   "source": [
    "df.to_html('monitor_table.html')"
   ]
  },
  {
   "cell_type": "code",
   "execution_count": null,
   "metadata": {},
   "outputs": [],
   "source": []
  },
  {
   "cell_type": "code",
   "execution_count": null,
   "metadata": {},
   "outputs": [],
   "source": []
  },
  {
   "cell_type": "code",
   "execution_count": null,
   "metadata": {},
   "outputs": [],
   "source": []
  }
 ],
 "metadata": {
  "kernelspec": {
   "display_name": "Python 3",
   "language": "python",
   "name": "python3"
  },
  "language_info": {
   "codemirror_mode": {
    "name": "ipython",
    "version": 3
   },
   "file_extension": ".py",
   "mimetype": "text/x-python",
   "name": "python",
   "nbconvert_exporter": "python",
   "pygments_lexer": "ipython3",
   "version": "3.7.0"
  }
 },
 "nbformat": 4,
 "nbformat_minor": 2
}
